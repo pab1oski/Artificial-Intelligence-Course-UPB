{
 "cells": [
  {
   "cell_type": "markdown",
   "metadata": {},
   "source": [
    "# Artificial Intelligence - Fall 202 - Laboratory 10\n",
    "\n",
    "## _First Order Predicate Logic:   Semantic Networks_"
   ]
  },
  {
   "cell_type": "markdown",
   "metadata": {},
   "source": [
    "## Introduction\n",
    "\n",
    "The purpose of this laboratory is to understand the concepts related to semantic networks and to implement simple mechanisms for determining the attributes of objects in a semantic network.\n",
    "\n",
    "### Classes, attributes, objects\n",
    "\n",
    "We consider that any **object** can belong to a **class**. This association is described by the relation $ Object \\xrightarrow{isa} Class $. We will represent this relation by an instance of the predicate $ isa $, in the form $ isa (Object, Class) $.\n",
    "\n",
    "One class can **inherit** another class (it is a sub-type). This relationship is called A-Kind-Of and is described as $ Subclass \\xrightarrow{ako} Class $. We will represent this relation by an instance of the predicate $ ako $, in the form $ ako (Subclass, Class) $.\n",
    "\n",
    "ako - a kind of\n",
    "\n",
    "A class can have **attributes** that have **values**. We represent that a class $ Class $ has the attribute $ Atr $ with the value $ val $ as an atom $ Atr (Class, value) $. The same will be for an object.\n",
    "\n",
    "Attributes are inherited from a class to a subclass of it and from the class to the object (instance). To determine what the value of an attribute might be for a particular object, we need to go up (to superclasses) on the $ isa $ and $ ako $ relations to find the first (closest) definition of the value of that attribute, in an ancestor of the object class.\n",
    "\n",
    "We will represent a semantic network as a knowledge base containing exclusively atoms. The predicates will be $ isa $, $ ako $, and the predicates corresponding to the various attributes."
   ]
  },
  {
   "cell_type": "markdown",
   "metadata": {},
   "source": [
    "## Knowledge base\n",
    "\n",
    "\n",
    "### Task 1\n",
    "\n",
    "Model the knoledge base from the given example.\n"
   ]
  },
  {
   "cell_type": "code",
   "execution_count": 65,
   "metadata": {},
   "outputs": [
    {
     "name": "stdout",
     "output_type": "stream",
     "text": [
      "This is how the knowledge base is modeled:  [[4, 3, 'AKO', [([1, 'Shop', None], [1, 'Company', None])]], [4, 3, 'AKO', [([1, 'Subregion', None], [1, 'Region', None])]], [4, 3, 'AKO', [([1, 'Location', None], [1, 'Subregion', None])]], [4, 3, 'Mentioned', [([1, 'Shop', None], [1, 'value', None])]], [4, 3, 'Controled', [([1, 'Company', None], [1, 'value', None])]], [4, 3, 'Located', [([1, 'Company', None], [1, 'value', None])]], [4, 3, 'Subreagion', [([1, 'Region', None], [1, 'value', None])]], [4, 3, 'Subreagion', [([1, 'Subregion', None], [1, 'value', None])]], [4, 3, 'ISA', [([0, 'MY LOCAL CAFE'], [1, 'Shop', None])]], [4, 3, 'Mentioned', [([0, 'MY LOCAL CAFE'], [0, 'NEWS'])]], [4, 3, 'Controled', [([0, 'MY LOCAL CAFE'], [0, 'GLOBAL INVESMENT INC.'])]], [4, 3, 'Located', [([0, 'MY LOCAL CAFE'], [0, 'NEW YORK CITY'])]], [4, 3, 'ISA', [([0, 'GLOBAL INVESMENT INC.'], [1, 'Company', None])]], [4, 3, 'Controled', [([0, 'GLOBAL INVESMENT INC.'], [0, ''])]], [4, 3, 'Located', [([0, 'GLOBAL INVESMENT INC.'], [0, 'WEST BAY'])]], [4, 3, 'ISA', [([0, 'BIG BUCKS CAFE'], [1, 'Company', None])]], [4, 3, 'Controled', [([0, 'BIG BUCKS CAFE'], [0, 'BIG BUCKS COFFE'])]], [4, 3, 'Located', [([0, 'BIG BUCKS CAFE'], [0, 'SEATLE'])]], [4, 3, 'ISA', [([0, 'WASHINGTON'], [1, 'Subregion', None])]], [4, 3, 'Subregion', [([0, 'USA'], [0, 'WASHINGTON'])]], [4, 3, 'ISA', [([0, 'SEATLE'], [1, 'Subregion', None])]], [4, 3, 'Subregion', [([0, 'WASHINGTON'], [0, 'SEATLE'])]], [4, 3, 'ISA', [([0, 'NEW YORK'], [1, 'Subregion', None])]], [4, 3, 'Subregion', [([0, 'USA'], [0, 'NEW YORK'])]], [4, 3, 'ISA', [([0, 'NEW YORK CITY'], [1, 'Subregion', None])]], [4, 3, 'Subregion', [([0, 'NEW YORK'], [0, 'NEW YORK CITY'])]], [4, 3, 'ISA', [([0, 'WEST BAY'], [1, 'Subregion', None])]], [4, 3, 'Subregion', [([0, 'CAYMAN ISLAND'], [0, 'WEST BAY'])]], [4, 3, 'ISA', [([0, 'USA'], [1, 'Region', None])]], [4, 3, 'Type', [([0, 'USA'], [1, 'COUNTRY', None])]], [4, 3, 'ISA', [([0, 'USA'], [1, 'Region', None])]], [4, 3, 'Type', [([0, 'USA'], [1, 'OFFSHORE ZONE', None])]]]\n"
     ]
    }
   ],
   "source": [
    "from FOP_helpful_funcs import *\n",
    "def create_company(name,atr,original=False):\n",
    "    # Fucntion to create the atoms asociated with a company\n",
    "    control,location=atr\n",
    "\n",
    "    isa=make_atom('ISA',(make_const(name),make_var('Company')))\n",
    "    return (isa,\n",
    "    make_atom('Controled',(make_const(name),make_const(control))),\n",
    "    make_atom('Located',(make_const(name),make_const(location))))\n",
    "\n",
    "def create_shop(name,mention,company_atr):\n",
    "    # Fucntion to create the atoms asociated with a shop\n",
    "    control,location=company_atr\n",
    "    \n",
    "    return (make_atom('ISA',(make_const(name),make_var('Shop'))),\n",
    "    make_atom('Mentioned',(make_const(name),make_const(mention))),\n",
    "    make_atom('Controled',(make_const(name),make_const(control))),\n",
    "    make_atom('Located',(make_const(name),make_const(location))))\n",
    "    \n",
    "\n",
    "def create_region(name,type):\n",
    "    # Fucntion to create the atoms asociated with a region\n",
    "    return (make_atom('ISA',(make_const(name),make_var('Region'))),\n",
    "    make_atom('Type',(make_const(name),make_var(type))))\n",
    "\n",
    "def create_subregion(name,subregion):\n",
    "    # Fucntion to create the atoms asociated with a subreagion\n",
    "    isa=make_atom('ISA',(make_const(subregion),make_var('Subregion')))\n",
    "    return (isa,\n",
    "    make_atom('Subregion',(make_const(name),make_const(subregion))),)\n",
    "\n",
    "        \n",
    "\n",
    "    \n",
    "\n",
    "KB = [\n",
    "    # Structural KB\n",
    "\n",
    "    #AKO\n",
    "    make_atom('AKO',(make_var('Shop'),make_var('Company'))),\n",
    "    make_atom('AKO',(make_var('Subregion'),make_var('Region'))),\n",
    "    make_atom('AKO',(make_var('Location'),make_var('Subregion'))),\n",
    "    #Attributes\n",
    "    make_atom('Mentioned',(make_var('Shop'),make_var('value'))),\n",
    "    make_atom('Controled',(make_var('Company'),make_var('value'))),\n",
    "    make_atom('Located',(make_var('Company'),make_var('value'))),\n",
    "    make_atom('Subreagion',(make_var('Region'),make_var('value'))),\n",
    "    make_atom('Subreagion',(make_var('Subregion'),make_var('value'))),\n",
    "\n",
    "]\n",
    "    # Shops\n",
    "for _ in create_shop('MY LOCAL CAFE','NEWS',['GLOBAL INVESMENT INC.','NEW YORK CITY']):\n",
    "    KB.append(_)\n",
    "    # Companies\n",
    "for _ in create_company('GLOBAL INVESMENT INC.',['','WEST BAY']):\n",
    "    KB.append(_)\n",
    "for _ in create_company('BIG BUCKS CAFE',['BIG BUCKS COFFE','SEATLE']):\n",
    "    KB.append(_)\n",
    "    # Subregions\n",
    "for _ in create_subregion('USA','WASHINGTON'):\n",
    "    KB.append(_)\n",
    "for _ in create_subregion('WASHINGTON','SEATLE'):\n",
    "    KB.append(_)\n",
    "for _ in create_subregion('USA','NEW YORK'):\n",
    "    KB.append(_)\n",
    "for _ in create_subregion('NEW YORK','NEW YORK CITY'):\n",
    "    KB.append(_)\n",
    "for _ in create_subregion('CAYMAN ISLAND','WEST BAY'):\n",
    "    KB.append(_)\n",
    "    # Region\n",
    "for _ in create_region('USA','COUNTRY'):\n",
    "    KB.append(_)\n",
    "for _ in create_region('USA','OFFSHORE ZONE'):\n",
    "    KB.append(_)\n",
    "\n",
    "    \n",
    "\n",
    "print(\"This is how the knowledge base is modeled: \", KB)"
   ]
  },
  {
   "cell_type": "markdown",
   "metadata": {},
   "source": [
    "### Task 2\n",
    "\n",
    "Implement the `infer_attr` function that determines the value inherited by a node for an attribute. Get one of the values that can be inherited.\n",
    "\n"
   ]
  },
  {
   "cell_type": "code",
   "execution_count": 70,
   "metadata": {},
   "outputs": [],
   "source": [
    "# infer_attr finds the value of the given name attribute, inferred for the given name node. It is enough to find a value\n",
    "# in any ancestor of the node (considering the condition that there is no other definition on the path between \n",
    "# the node and the ancestors of the attribute).\n",
    "# It will return a tuple consisting of the value and the name of the node where the value was found\n",
    "# Returns None if no value can be found\n",
    "# If two different values are found, at a distance equal to the node, the message \"CONTRADICTION\" is returned instead.\n",
    "\n",
    "def infer_attr(node_name, attribute_name, net):\n",
    "\n",
    "    # Make a list with the ISA atoms asociated with the node\n",
    "    L=[ k for k in KB if get_head(k)=='ISA' and get_args(k)[0][0][1]== node_name]\n",
    "    # whle atoms left do:\n",
    "    while len(L)!=0:\n",
    "        # take the first\n",
    "        l=L.pop(0)\n",
    "        # If the head is the atribute name\n",
    "        if get_head(l)==attribute_name:\n",
    "            # make a list with the atoms with the head=> attribute name and class argument=> node name\n",
    "            value=[ (attr,attribute_name) for attr in KB if get_head(attr)==attribute_name and get_args(attr)[0][0][1]==node_name]\n",
    "            # if the result are more than one, contradiction\n",
    "            if len(value)>=2:\n",
    "                return 'CONTRADICTION'\n",
    "                # if the result is unique , success\n",
    "            elif len(value)==1:\n",
    "                return(get_args(value[0][0])[0][1][1],attribute_name)\n",
    "        \n",
    "        # Get the class os the atom\n",
    "        clas=get_args(l)[0][1]\n",
    "        for k in KB:\n",
    "            # Search in the KB for a AKO atom that link the current class with a superclass\n",
    "            if get_head(k)=='AKO' and get_args(k)[0][0]==clas:\n",
    "                superclas=get_args(k)[0][1]\n",
    "                # If it is found, search the atributtes of the class and add to the current list\n",
    "                atrib=[ atr for atr in KB if get_args(atr)[0][0]==superclas and get_head(atr) not in ['AKO','ISA']]\n",
    "                L.extend(atrib)\n",
    "    \n",
    "    # If no result is found , FAIL\n",
    "    return None\n",
    "\n",
    "\n",
    "\n",
    "    \n",
    "    \n"
   ]
  }
 ],
 "metadata": {
  "kernelspec": {
   "display_name": "venv",
   "language": "python",
   "name": "python3"
  },
  "language_info": {
   "codemirror_mode": {
    "name": "ipython",
    "version": 3
   },
   "file_extension": ".py",
   "mimetype": "text/x-python",
   "name": "python",
   "nbconvert_exporter": "python",
   "pygments_lexer": "ipython3",
   "version": "3.11.0"
  },
  "vscode": {
   "interpreter": {
    "hash": "2129ad4f511bc0c28e0cca881e73903a549b573470bccd27059ad914bc6e66a0"
   }
  }
 },
 "nbformat": 4,
 "nbformat_minor": 4
}

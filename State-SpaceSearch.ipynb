{
 "cells": [
  {
   "cell_type": "markdown",
   "metadata": {},
   "source": [
    "# Artificial Intelligence - Fall 2022 - Laboratory 04 : State-Space Search\n"
   ]
  },
  {
   "cell_type": "markdown",
   "metadata": {},
   "source": [
    "## Introduction\n",
    "\n",
    "State-space search or pathfinding requires a sequence of actions in the space of states \\begin{equation*} s_{0} \\mapsto s_{f} \\end{equation*} which can be:\n",
    "* explored, \n",
    "* discovered(frontier), \n",
    "* unexplored.\n",
    "\n",
    "**A\\*** is the most widespread option for this type of problems in AI: the algorithm finds the shortest path and uses a heuristic to guide itself."
   ]
  },
  {
   "cell_type": "markdown",
   "metadata": {},
   "source": [
    "## Today's Challenge\n",
    "\n",
    "Given a bidimensional map with various obstacles, find the shortest path between two positions within it.\n",
    "\n",
    "_Note:_ The **labyrinth** variable will play the role of the bidimensional map."
   ]
  },
  {
   "cell_type": "code",
   "execution_count": 18,
   "metadata": {},
   "outputs": [
    {
     "data": {
      "image/png": "[encoded data removed]",
      "text/plain": [
       "<Figure size 432x288 with 1 Axes>"
      ]
     },
     "metadata": {
      "needs_background": "light"
     },
     "output_type": "display_data"
    }
   ],
   "source": [
    "# Dimensions of the map.\n",
    "height = 10\n",
    "width = 20\n",
    "\n",
    "# Bidimensional map as a list of lists.\n",
    "# The empty cells are marked with 0, while blocks of walls with 1.\n",
    "labyrinth = [[0 for c in range(width)] for r in range(height)]\n",
    "\n",
    "for r in range(2, 7):\n",
    "    labyrinth[r][6] = 1\n",
    "    labyrinth[6][r] = 1\n",
    "labyrinth[2][7] = 1\n",
    "\n",
    "# Display labyrinth\n",
    "%matplotlib inline\n",
    "import matplotlib.pyplot as pyplot\n",
    "pyplot.imshow(labyrinth, cmap='Greys');"
   ]
  },
  {
   "cell_type": "code",
   "execution_count": 127,
   "metadata": {},
   "outputs": [
    {
     "data": {
      "text/plain": [
       "[[0, 0, 0, 0, 0, 0, 0, 0, 0, 0, 0, 0, 0, 0, 0, 0, 0, 0, 0, 0],\n",
       " [0, 0, 0, 0, 0, 0, 0, 0, 0, 0, 0, 0, 0, 0, 0, 0, 0, 0, 0, 0],\n",
       " [0, 0, 0, 0, 0, 0, 1, 1, 0, 0, 0, 0, 0, 0, 0, 0, 0, 0, 0, 0],\n",
       " [0, 0, 0, 0, 0, 0, 1, 0, 0, 0, 0, 0, 0, 0, 0, 0, 0, 0, 0, 0],\n",
       " [0, 0, 0, 0, 0, 0, 1, 0, 0, 0, 0, 0, 0, 0, 0, 0, 0, 0, 0, 0],\n",
       " [0, 0, 0, 0, 0, 0, 1, 0, 0, 0, 0, 0, 0, 0, 0, 0, 0, 0, 0, 0],\n",
       " [0, 0, 1, 1, 1, 1, 1, 0, 0, 0, 0, 0, 0, 0, 0, 0, 0, 0, 0, 0],\n",
       " [0, 0, 0, 0, 0, 0, 0, 0, 0, 0, 0, 0, 0, 0, 0, 0, 0, 0, 0, 0],\n",
       " [0, 0, 0, 0, 0, 0, 0, 0, 0, 0, 0, 0, 0, 0, 0, 0, 0, 0, 0, 0],\n",
       " [0, 0, 0, 0, 0, 0, 0, 0, 0, 0, 0, 0, 0, 0, 0, 0, 0, 0, 0, 0]]"
      ]
     },
     "execution_count": 127,
     "metadata": {},
     "output_type": "execute_result"
    }
   ],
   "source": [
    "labyrinth"
   ]
  },
  {
   "cell_type": "markdown",
   "metadata": {},
   "source": [
    "## Advanced functions\n",
    "\n",
    "To simplify the iteration process, we can use: \n",
    "\n",
    "* `lambda`, the anonymous function which always returns an expression and has the following syntax:\n",
    "\n",
    "```python\n",
    "    lambda arguments: expression\n",
    "```"
   ]
  },
  {
   "cell_type": "code",
   "execution_count": 19,
   "metadata": {},
   "outputs": [],
   "source": [
    "# For this problem, we want to find the path \n",
    "# from the start point\n",
    "\n",
    "start = (5, 5)\n",
    "\n",
    "# to the end point.\n",
    "final = (8, 8)\n",
    "\n",
    "# Let us verify if having a list of tuples,\n",
    "# their position corresponds to the endpoint.\n",
    "\n",
    "# First, the lambda function:\n",
    "is_final = lambda position: position == final"
   ]
  },
  {
   "cell_type": "markdown",
   "metadata": {},
   "source": [
    "Lambda plays the role of an input argument in other functions, such as:\n",
    "\n",
    "* `map`, which passes each element of the given iterable to a function:\n",
    "\n",
    "```python\n",
    "    map(function, iterable)\n",
    "```"
   ]
  },
  {
   "cell_type": "code",
   "execution_count": 20,
   "metadata": {},
   "outputs": [
    {
     "data": {
      "text/plain": [
       "[False, False, True]"
      ]
     },
     "execution_count": 20,
     "metadata": {},
     "output_type": "execute_result"
    }
   ],
   "source": [
    "# Second, the map function:\n",
    "    \n",
    "list(map(is_final, [(1,1), (3, 6), (8, 8)]))"
   ]
  },
  {
   "cell_type": "markdown",
   "metadata": {},
   "source": [
    "* `filter` can easily select the values from a sequence with a certain property:\n",
    "\n",
    "```python\n",
    "    filter(function, sequence)\n",
    "```"
   ]
  },
  {
   "cell_type": "code",
   "execution_count": 9,
   "metadata": {},
   "outputs": [
    {
     "data": {
      "text/plain": [
       "[(8, 8)]"
      ]
     },
     "execution_count": 9,
     "metadata": {},
     "output_type": "execute_result"
    }
   ],
   "source": [
    "list(filter(is_final, [(1,1), (3, 6), (8, 8)]))"
   ]
  },
  {
   "cell_type": "markdown",
   "metadata": {},
   "source": [
    "## The A* algorithm\n",
    "\n",
    "With the help of the following tasks, create the building blocks of the algorithm."
   ]
  },
  {
   "cell_type": "markdown",
   "metadata": {},
   "source": [
    "### Task 0\n",
    "\n",
    "**a.** Given a certain position represented by a `tuple`, find if its location is valid.\n",
    "\n",
    "While exploring the bidirectional map, be careful to:\n",
    "\n",
    "* check if the available coordinates are inside the plane (0-height, 0-width),\n",
    "* verify if the position is free and not occupied by an obstacle."
   ]
  },
  {
   "cell_type": "code",
   "execution_count": 21,
   "metadata": {},
   "outputs": [],
   "source": [
    "def verify_location(position):\n",
    "    # extract coordinates\n",
    "    (x, y) = position\n",
    "    if x>=0 and y>=0 and x<height and y<width and labyrinth[x][y] == 0:\n",
    "        return True\n",
    "    else:\n",
    "        return False\n",
    "\n"
   ]
  },
  {
   "cell_type": "code",
   "execution_count": 22,
   "metadata": {},
   "outputs": [
    {
     "data": {
      "text/plain": [
       "[False, False, False, True, False, True]"
      ]
     },
     "execution_count": 22,
     "metadata": {},
     "output_type": "execute_result"
    }
   ],
   "source": [
    "list(map(verify_location, [(-1,2), (height,3), (width,4), (5,5), (6,6), (0,9)])) \n",
    "# expected answer: [False, False, False, True, False, True]"
   ]
  },
  {
   "cell_type": "markdown",
   "metadata": {},
   "source": [
    "**b.** Once you have verified the position, return its empty neighbours in a `list`.\n",
    "\n",
    "Use both `filter` function and `verifiy_location` written above."
   ]
  },
  {
   "cell_type": "code",
   "execution_count": 23,
   "metadata": {},
   "outputs": [
    {
     "data": {
      "text/plain": [
       "[(0, 1), (1, 0), (1, 1)]"
      ]
     },
     "execution_count": 23,
     "metadata": {},
     "output_type": "execute_result"
    }
   ],
   "source": [
    "def get_neighbours(position):\n",
    "    (x,y)=position\n",
    "    neighburs=[]\n",
    "    for i in range(-1,2):\n",
    "        for j in range(-1,2):\n",
    "            neighburs.append((x+i,y+j))\n",
    "    neighburs.remove((x,y))\n",
    "    result=list(filter(verify_location,neighburs))\n",
    "    return result\n",
    "\n",
    "get_neighbours((0,0))"
   ]
  },
  {
   "cell_type": "code",
   "execution_count": 18,
   "metadata": {
    "scrolled": false
   },
   "outputs": [
    {
     "data": {
      "text/plain": [
       "[[(0, 8), (0, 10), (1, 8), (1, 9), (1, 10)], [(4, 4), (4, 5), (5, 4)]]"
      ]
     },
     "execution_count": 18,
     "metadata": {},
     "output_type": "execute_result"
    }
   ],
   "source": [
    "[get_neighbours(p) for p in [(0,9), (5,5)]]\n",
    "# expected answer: [[(1, 10), (0, 10), (1, 9), (0, 8), (1, 8)], [(4, 4), (4, 5), (5, 4)]]"
   ]
  },
  {
   "cell_type": "markdown",
   "metadata": {},
   "source": [
    "### Heuristic search\n",
    "\n",
    "After checking the surroundings, we want to expand our frontier towards the goal, rather than searching for all possible directions."
   ]
  },
  {
   "cell_type": "markdown",
   "metadata": {},
   "source": [
    "### Task 1\n",
    "\n",
    "**a.** Compute the _Euclidean distance_:\n",
    "\n",
    "For two dimensions: \n",
    "\n",
    "\\begin{equation*}\n",
    "d(x, y) = \\sqrt{(x_{2} - x_{1})^{2} + (y_{2} - y_{1})^{2}}\n",
    "\\end{equation*}"
   ]
  },
  {
   "cell_type": "code",
   "execution_count": 13,
   "metadata": {},
   "outputs": [],
   "source": [
    "from math import sqrt"
   ]
  },
  {
   "cell_type": "code",
   "execution_count": 10,
   "metadata": {},
   "outputs": [],
   "source": [
    "def euclidean_distance(a, b):\n",
    "    \n",
    "    distance=sqrt((a[0]-b[0])**2+(a[1]-b[1])**2)\n",
    "    \n",
    "    return distance"
   ]
  },
  {
   "cell_type": "code",
   "execution_count": 24,
   "metadata": {},
   "outputs": [
    {
     "data": {
      "text/plain": [
       "4.47213595499958"
      ]
     },
     "execution_count": 24,
     "metadata": {},
     "output_type": "execute_result"
    }
   ],
   "source": [
    "euclidean_distance((2,3), (4, 7))\n",
    "# expected answer: 4.47213595499958"
   ]
  },
  {
   "cell_type": "markdown",
   "metadata": {},
   "source": [
    "**b.** Compute the _Manhattan distance_:\n",
    "\n",
    "For two dimensions: \n",
    "\n",
    "\\begin{equation*}\n",
    "d(x, y) = \\left | x_{1} - x_{2} \\right | +  \\left | y_{1} - y_{2} \\right |\n",
    "\\end{equation*}"
   ]
  },
  {
   "cell_type": "code",
   "execution_count": 11,
   "metadata": {},
   "outputs": [],
   "source": [
    "def manhattan_distance(a, b):\n",
    "    \n",
    "    distance=abs(a[0]-b[0])+abs(a[1]-b[1])\n",
    "    return distance"
   ]
  },
  {
   "cell_type": "code",
   "execution_count": 26,
   "metadata": {},
   "outputs": [
    {
     "data": {
      "text/plain": [
       "5"
      ]
     },
     "execution_count": 26,
     "metadata": {},
     "output_type": "execute_result"
    }
   ],
   "source": [
    "manhattan_distance((2,3), (4,0))\n",
    "# expected answer: 5"
   ]
  },
  {
   "cell_type": "markdown",
   "metadata": {},
   "source": [
    "To decide which location should be first checked from the _frontier_, we need to verify if the new possible route is better than the best previous one.\n",
    "\n",
    "In practice, this could be accomplished using a **Priority Queue**. "
   ]
  },
  {
   "cell_type": "code",
   "execution_count": 27,
   "metadata": {},
   "outputs": [
    {
     "name": "stdout",
     "output_type": "stream",
     "text": [
      "((0, 1), 'cost_so_far: 1')\n",
      "((1, 2), 'cost_so_far: 2')\n",
      "((1, 4), 'cost_so_far: 3')\n"
     ]
    }
   ],
   "source": [
    "from heapq import heappop, heappush\n",
    "\n",
    "priority_queue = []\n",
    "heappush(priority_queue, ((1, 2), 'cost_so_far: 2'))\n",
    "heappush(priority_queue, ((0, 1), 'cost_so_far: 1'))\n",
    "heappush(priority_queue, ((1, 4), 'cost_so_far: 3'))\n",
    "\n",
    "print(heappop(priority_queue))\n",
    "print(heappop(priority_queue))\n",
    "print(heappop(priority_queue))"
   ]
  },
  {
   "cell_type": "markdown",
   "metadata": {},
   "source": [
    "The frontier uses a priority queue for expansion and has the following structure: \n",
    "\n",
    "`frontier[(discovered_nodes_as_tuple), (estimated_cost, node)]`\n",
    "\n",
    "Save the discovered nodes in a dictionary:\n",
    "\n",
    "`d[new_node] = (parent, cost_so_far)`\n",
    "\n",
    "* The movement between cells costs one unit and represents the `real cost g` which helps in measuring the actual distance.\n",
    "* The estimated distance to the goal is given by the `heuristic function` defined before."
   ]
  },
  {
   "cell_type": "markdown",
   "metadata": {},
   "source": [
    "### Task 2\n",
    "\n",
    "**a.** Implement **A\\*** algorithm which receives as arguments the start node, the final node and the heuristic function."
   ]
  },
  {
   "cell_type": "code",
   "execution_count": 1,
   "metadata": {},
   "outputs": [],
   "source": [
    "from heapq import heappop, heappush"
   ]
  },
  {
   "cell_type": "code",
   "execution_count": 155,
   "metadata": {},
   "outputs": [],
   "source": [
    "def astar(start, end, h):\n",
    "    # Frontier as list\n",
    "    frontier = []\n",
    "    heappush(frontier, (0 + h(start, end), 0, start)) #(g+h, g, parent)\n",
    "    #Initial state\n",
    "    actual_pos=start\n",
    "    g=0\n",
    "    passed=[]\n",
    "    passed.append(start)\n",
    "    while actual_pos!=end:\n",
    "        #Find the available neighbours\n",
    "        neighbours=get_neighbours(actual_pos)\n",
    "        min_distance=100 # infinit becuase is out of the plane\n",
    "        next_pos=actual_pos\n",
    "        for pos in neighbours:\n",
    "            #Calculate the distanace of eah neighbour\n",
    "            distance_to_end=h(pos,end)\n",
    "            # Select tthe next pos by tabking the position with minimun distance and if it is not repeted\n",
    "            if (distance_to_end < min_distance) and (pos not in passed):\n",
    "                min_distance=distance_to_end\n",
    "                next_pos=pos\n",
    "        # Upgrade the values\n",
    "        \n",
    "        actual_pos=next_pos\n",
    "        g+=1\n",
    "        passed.append(actual_pos)\n",
    "        heappush(frontier,((g+min_distance),g,actual_pos))\n",
    "    # Retrieve the path\n",
    "    path=list(frontier)\n",
    "    \n",
    "    return path # the path, as list of positions\n"
   ]
  },
  {
   "cell_type": "markdown",
   "metadata": {},
   "source": [
    "**b.** Run the algorithm using different heuristics."
   ]
  },
  {
   "cell_type": "code",
   "execution_count": 171,
   "metadata": {},
   "outputs": [
    {
     "data": {
      "text/plain": [
       "23"
      ]
     },
     "execution_count": 171,
     "metadata": {},
     "output_type": "execute_result"
    }
   ],
   "source": [
    "start=(0,0)\n",
    "end=(9,19)\n",
    "p=astar(start,end,euclidean_distance)\n",
    "\n"
   ]
  },
  {
   "cell_type": "markdown",
   "metadata": {},
   "source": [
    "### Task 3\n",
    "\n",
    "* Which heuristic function can be used in our problem, when we can move diagonally on the map?\n",
    "* Which is the best one to use?\n",
    "* What if we could only move in the 4 cardinal directions?"
   ]
  },
  {
   "cell_type": "code",
   "execution_count": 178,
   "metadata": {},
   "outputs": [],
   "source": [
    "def better_option():\n",
    "    euclidean=astar(start,end,euclidean_distance)\n",
    "    manhattan=astar(start,end,manhattan_distance)\n",
    "    print('Number of steps: euclidean {} ; manhattan {}'.format(len(euclidean),len(manhattan)) )\n",
    "    if(len(euclidean)>len(manhattan)):\n",
    "        print('Manhattan is better')\n",
    "    elif len(euclidean)==len(manhattan):\n",
    "        print('Have the same number of steps')\n",
    "    else:\n",
    "        print('Euclidean is better')"
   ]
  },
  {
   "cell_type": "code",
   "execution_count": 179,
   "metadata": {},
   "outputs": [
    {
     "name": "stdout",
     "output_type": "stream",
     "text": [
      "Number of steps: euclidean 29 ; manhattan 29\n",
      "Have the same number of steps\n"
     ]
    }
   ],
   "source": [
    "# Modify the way to inspect the possible neighbours\n",
    "def get_neighbours(position):\n",
    "    (x,y)=position\n",
    "    neighburs=[]\n",
    "    neighburs.append((x-1,y))\n",
    "    neighburs.append((x+1,y))\n",
    "    neighburs.append((x,y-1))\n",
    "    neighburs.append((x,y+1))\n",
    "    result=list(filter(verify_location,neighburs))\n",
    "    return result\n",
    "\n",
    "better_option()\n"
   ]
  }
 ],
 "metadata": {
  "kernelspec": {
   "display_name": "Python 3.6.13 ('ip_lab')",
   "language": "python",
   "name": "python3"
  },
  "language_info": {
   "codemirror_mode": {
    "name": "ipython",
    "version": 3
   },
   "file_extension": ".py",
   "mimetype": "text/x-python",
   "name": "python",
   "nbconvert_exporter": "python",
   "pygments_lexer": "ipython3",
   "version": "3.6.13"
  },
  "vscode": {
   "interpreter": {
    "hash": "0a6a9e23bd7aa9536986d8b41f53c9d9687edd32730f7f0e6ec80d95ba9a787b"
   }
  }
 },
 "nbformat": 4,
 "nbformat_minor": 4
}

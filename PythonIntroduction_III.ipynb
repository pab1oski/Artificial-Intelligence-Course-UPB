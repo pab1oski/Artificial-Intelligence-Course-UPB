{
 "cells": [
  {
   "cell_type": "markdown",
   "metadata": {
    "id": "gVtTU731ugud"
   },
   "source": [
    "# Artificial Intelligence - Fall 2021 - Laboratory 03:Python Introduction part III\n"
   ]
  },
  {
   "cell_type": "markdown",
   "metadata": {
    "id": "18ICxssnuguh"
   },
   "source": [
    "## Classes\n",
    "\n",
    "The object-oriented programming paradigm in Python helps with structuring programs into `individual objects`. But how?\n",
    "\n",
    "* An Object **O** from a class **C** has a set of properties **_p_** and actions **_a_**.\n",
    "\n",
    "* The functions of a class are called `methods`. Their responsibility is to model the data corresponding to a given object.\n",
    "\n",
    "* The objects of a class are known as `instances` and represent the source of collecting data.\n",
    "\n",
    "```python\n",
    "\n",
    "class EmptyClas:\n",
    "    \"\"\"\n",
    "    This is a class without variables and methods\n",
    "    \"\"\"\n",
    "    pass # The keyword pass is a placeholder\n",
    "\n",
    "\n",
    "class MyClass:\n",
    "    # A class variable\n",
    "    name = 'My Class'\n",
    "    \n",
    "    def my_method(self, my_var):\n",
    "        # An instance variable\n",
    "        self.my_instance = my_var\n",
    "```"
   ]
  },
  {
   "cell_type": "code",
   "execution_count": 17,
   "metadata": {
    "id": "XhgoWxJGuguk"
   },
   "outputs": [],
   "source": [
    "# Implement Task 0 b and c here:\n",
    "\n",
    "class ScientificConference:\n",
    "    \"\"\"\n",
    "    To define the properties of a class, \n",
    "    we use a special method called __init__.\n",
    "    \n",
    "    The special variable called \"self\"\n",
    "    helps with associating the attributes\n",
    "    w\\ the new object: similar to `this`\n",
    "    keyword from other programming languages\n",
    "    and required to address variables from\n",
    "    classes. \n",
    "    \"\"\"\n",
    "    def __init__(self, name, year,papers={}):\n",
    "        \"\"\"\n",
    "        Establish the attributes of the\n",
    "        class and assign values to the \n",
    "        corresponding parameters.\n",
    "        \"\"\" \n",
    "        self.name = name\n",
    "        self.year = year\n",
    "\n",
    "        \"\"\"\n",
    "        b. Add new attribute `papers`\n",
    "        \"\"\"\n",
    "\n",
    "        self.papers=papers\n",
    "        \n",
    "    \n",
    "    def add_manuscript(self, title, researcher):\n",
    "        self.papers[researcher]=title\n",
    "        \n",
    "\n",
    "    def __str__(self):\n",
    "        \"\"\"\n",
    "        To return the String representation of\n",
    "        an object, we use the __str__ method. \n",
    "        \"\"\"\n",
    "        result = self.name + ' ' + str(self.year) + ': \\n'\n",
    "        for author, papers in self.papers.items():\n",
    "            result += f'{author}: {\", \".join([str(paper) for paper in papers])} \\n'\n",
    "        return result"
   ]
  },
  {
   "cell_type": "markdown",
   "metadata": {
    "id": "6xdy3BZ7ugu1"
   },
   "source": [
    "### Task 0\n",
    "\n",
    "**a.** Define two new `instances` of the `class ScientificConference` and return their representations.\n",
    "\n",
    "Your output should look like:\n",
    "\n",
    "`Proposals for ICML and NeurIPS conferences will be accepted until the end of November 2021.`\n",
    "\n",
    "_Hint:_ `instance.attribute` helps you extracting a certain property."
   ]
  },
  {
   "cell_type": "code",
   "execution_count": 20,
   "metadata": {
    "id": "ezLUEAgkugu5"
   },
   "outputs": [
    {
     "name": "stdout",
     "output_type": "stream",
     "text": [
      "Proposals for ICML and NeurIPS conferences will be accepted until the end of November 2021\n"
     ]
    }
   ],
   "source": [
    "# Your implementation here\n",
    "names=['ICML','NeurIPS']\n",
    "date='November 2021'\n",
    "\n",
    "conference=ScientificConference(names,date)\n",
    "print('Proposals for {} and {} conferences will be accepted until the end of {}'.format(conference.name[0],conference.name[1],conference.year))"
   ]
  },
  {
   "cell_type": "markdown",
   "metadata": {
    "id": "7ZvLz1GZugvC"
   },
   "source": [
    "**b.** Create a new attribute for the `class ScientificConference`, which is a dictionary passed as a parameter to the instances of the class and holds all of the papers of the conference.\n",
    "\n",
    "_Note:_ You should check if `papers` is `None` in `__init__` and set it to `{}` instead.\n",
    "\n",
    "_Please handle duplicate entries by removing them!_"
   ]
  },
  {
   "cell_type": "markdown",
   "metadata": {
    "id": "Tw7tlZtTugvF"
   },
   "source": [
    "**c.** Define the `add_manuscript` method which generates new entries in the dictionary described before. Please consider using the _researcher_ as a `key` and the _title_ as `values`."
   ]
  },
  {
   "cell_type": "code",
   "execution_count": 19,
   "metadata": {},
   "outputs": [
    {
     "name": "stdout",
     "output_type": "stream",
     "text": [
      "{'Turing': 'AI'}\n"
     ]
    }
   ],
   "source": [
    "# Verify here if your add_manuscript method works: add an item & print it\n",
    "\n",
    "conference.add_manuscript('AI','Turing')\n",
    "print(conference.papers)"
   ]
  },
  {
   "cell_type": "markdown",
   "metadata": {
    "id": "HUKrHifWugvP"
   },
   "source": [
    "### Task 1\n",
    "\n",
    "**a.** Define the class `Person` which stores the `title`, `name` and `surname` of a person.\n",
    "\n",
    "The _tuple_ `allowed_titles` is a class variable which helps to verify if the title of a person is \"Mr\", \"Mrs\", \"Ms\", \"Senior Researcher\", \"Professor of CS\" or \"Computer Scientist\".\n",
    "\n",
    "An error is returned if the title is not valid.\n",
    "\n",
    "Use `__str__` defined below:\n",
    "\n",
    "```python\n",
    "    def __str__(self):\n",
    "        return self.title + ' ' + self.surname + ' ' + self.name\n",
    "```"
   ]
  },
  {
   "cell_type": "code",
   "execution_count": 78,
   "metadata": {
    "id": "CLYRkzHSugvR"
   },
   "outputs": [
    {
     "data": {
      "text/plain": [
       "'TO DO'"
      ]
     },
     "execution_count": 78,
     "metadata": {},
     "output_type": "execute_result"
    }
   ],
   "source": [
    "# Your implementation here\n",
    "#raise ValueError(\"The title isn't right\")\n",
    "class Person:\n",
    "\n",
    "    allowed_title=('Mr','Mrs','Ms','Senior Researcher','Professor of CS','Computer Scientist')\n",
    "\n",
    "    def __init__(self,name,surname,title):\n",
    "        self.name=name\n",
    "        self.surname=surname\n",
    "        if title in Person.allowed_title:\n",
    "            self.title=title\n",
    "        else:\n",
    "            raise ValueError(\"The title isn't right\")\n",
    "    \n",
    "    def __str__(self):\n",
    "        return self.title + ' '+self.surname+' '+self.name\n",
    "\n",
    "    \n",
    "\n",
    "\n",
    "'TO DO'"
   ]
  },
  {
   "cell_type": "markdown",
   "metadata": {
    "id": "ZcjB03J3ugva"
   },
   "source": [
    "**b.** Create two instances of the class Person and verify if the following entries are valid:\n",
    "\n",
    "* _Mr Ian Goodfellow_,\n",
    "* _SeniorResearcher Tomas Mikolov._"
   ]
  },
  {
   "cell_type": "code",
   "execution_count": 27,
   "metadata": {
    "id": "U8jKwHK8ugvc"
   },
   "outputs": [
    {
     "data": {
      "text/plain": [
       "'Mr Goodfellow Ian'"
      ]
     },
     "execution_count": 27,
     "metadata": {},
     "output_type": "execute_result"
    }
   ],
   "source": [
    "# Your implementation here\n",
    "first=Person('Ian','Goodfellow','Mr')\n",
    "first.__str__()\n"
   ]
  },
  {
   "cell_type": "code",
   "execution_count": 28,
   "metadata": {},
   "outputs": [
    {
     "ename": "ValueError",
     "evalue": "The title isn't right",
     "output_type": "error",
     "traceback": [
      "\u001b[1;31m---------------------------------------------------------------------------\u001b[0m",
      "\u001b[1;31mValueError\u001b[0m                                Traceback (most recent call last)",
      "\u001b[1;32m<ipython-input-28-076c614c8257>\u001b[0m in \u001b[0;36m<module>\u001b[1;34m\u001b[0m\n\u001b[1;32m----> 1\u001b[1;33m \u001b[0msecond\u001b[0m\u001b[1;33m=\u001b[0m\u001b[0mPerson\u001b[0m\u001b[1;33m(\u001b[0m\u001b[1;34m'Tomas'\u001b[0m\u001b[1;33m,\u001b[0m\u001b[1;34m'Mikolov'\u001b[0m\u001b[1;33m,\u001b[0m\u001b[1;34m'SeniorResearcher'\u001b[0m\u001b[1;33m)\u001b[0m\u001b[1;33m\u001b[0m\u001b[1;33m\u001b[0m\u001b[0m\n\u001b[0m",
      "\u001b[1;32m<ipython-input-22-b1b4419ff898>\u001b[0m in \u001b[0;36m__init__\u001b[1;34m(self, name, surname, title)\u001b[0m\n\u001b[0;32m     11\u001b[0m             \u001b[0mself\u001b[0m\u001b[1;33m.\u001b[0m\u001b[0mtitle\u001b[0m\u001b[1;33m=\u001b[0m\u001b[0mtitle\u001b[0m\u001b[1;33m\u001b[0m\u001b[1;33m\u001b[0m\u001b[0m\n\u001b[0;32m     12\u001b[0m         \u001b[1;32melse\u001b[0m\u001b[1;33m:\u001b[0m\u001b[1;33m\u001b[0m\u001b[1;33m\u001b[0m\u001b[0m\n\u001b[1;32m---> 13\u001b[1;33m             \u001b[1;32mraise\u001b[0m \u001b[0mValueError\u001b[0m\u001b[1;33m(\u001b[0m\u001b[1;34m\"The title isn't right\"\u001b[0m\u001b[1;33m)\u001b[0m\u001b[1;33m\u001b[0m\u001b[1;33m\u001b[0m\u001b[0m\n\u001b[0m\u001b[0;32m     14\u001b[0m \u001b[1;33m\u001b[0m\u001b[0m\n\u001b[0;32m     15\u001b[0m     \u001b[1;32mdef\u001b[0m \u001b[0m__str__\u001b[0m\u001b[1;33m(\u001b[0m\u001b[0mself\u001b[0m\u001b[1;33m)\u001b[0m\u001b[1;33m:\u001b[0m\u001b[1;33m\u001b[0m\u001b[1;33m\u001b[0m\u001b[0m\n",
      "\u001b[1;31mValueError\u001b[0m: The title isn't right"
     ]
    }
   ],
   "source": [
    "second=Person('Tomas','Mikolov','SeniorResearcher')"
   ]
  },
  {
   "cell_type": "markdown",
   "metadata": {
    "id": "sJGqy2Zxugvm"
   },
   "source": [
    "### Task 2\n",
    "\n",
    "In `ScientificConference` we have been using the paper parameter as a string, but this concept requires a detailed structure.\n",
    "\n",
    "Introduce a new class, `Paper`, which has the following attributes:\n",
    "\n",
    "* `authors`, \n",
    "* `title`, \n",
    "* `a_id`,\n",
    "* `year`, \n",
    "* `status` (published or in development), \n",
    "* `peer_rating` (Excellent, Good, Fair, Poor, Barely Acceptable, Unacceptable)."
   ]
  },
  {
   "cell_type": "code",
   "execution_count": 111,
   "metadata": {
    "id": "1hPZ7q3rugvn"
   },
   "outputs": [],
   "source": [
    "class Paper:\n",
    "    allowed_status=('published','development')\n",
    "    allowed_peer_rating=('Excellent','Good','Fair','Poor','Barely','Acceptable','Unacepptable')\n",
    "    def __init__(self, authors, title, a_id, status, year, peer_rating):\n",
    "        self.authors=authors\n",
    "        self.title=title\n",
    "        self.a_id=a_id\n",
    "        if status in Paper.allowed_status:\n",
    "            self.status=status\n",
    "        else:\n",
    "            raise ValueError (\"Status not allowed\")\n",
    "        self.year=year\n",
    "        if peer_rating in Paper.allowed_peer_rating:\n",
    "            self.peer_rating=peer_rating\n",
    "        else:\n",
    "            raise ValueError (\"Peer rating not allowed\")\n",
    "\n",
    "\n",
    "    def __str__(self):\n",
    "        return  f'{self.title}, {\", \".join([author.__str__() for author in self.authors])} et al. ({self.year}), a_id: '\\\n",
    "                f'{self.a_id}, status: {self.status}, rating: {self.peer_rating}'\n",
    "\n"
   ]
  },
  {
   "cell_type": "markdown",
   "metadata": {
    "id": "j82CL54Augvv"
   },
   "source": [
    "## Inheritence\n",
    "\n",
    "In Object-Oriented programming, this concept enables us to transfer the methods and the properties of a class to another class."
   ]
  },
  {
   "cell_type": "markdown",
   "metadata": {
    "id": "rZqutiFsugvw"
   },
   "source": []
  },
  {
   "cell_type": "markdown",
   "metadata": {},
   "source": [
    "### Task 3\n",
    "\n",
    "Create a class named `Researcher`, which inherits the properties and methods from the `Person` class. Besides, this class has an additional parameter, `papers` which is `None` by default.\n"
   ]
  },
  {
   "cell_type": "markdown",
   "metadata": {},
   "source": [
    "\n",
    "_Note:_ You should check if `papers` is `None` in `__init__` and set it to `[]` instead.\n",
    "\n",
    "```python\n",
    "class Researcher(Person):\n",
    "    def __init__('Add arguments'):\n",
    "        super().__init__(title, name, surname)\n",
    "```"
   ]
  },
  {
   "cell_type": "code",
   "execution_count": 82,
   "metadata": {
    "id": "QCfpoVveugvy"
   },
   "outputs": [
    {
     "data": {
      "text/plain": [
       "'Senior Researcher Mikolov Tomas'"
      ]
     },
     "execution_count": 82,
     "metadata": {},
     "output_type": "execute_result"
    }
   ],
   "source": [
    "class Researcher(Person):\n",
    "    def __init__(self,person,papers=[]):\n",
    "        self.person=person\n",
    "        super().__init__(person.name,person.surname,person.title)\n",
    "        self.papers=papers\n",
    "        \n",
    "        \n",
    "# Define your first researcher\n",
    "tomas=Person('Tomas','Mikolov','Senior Researcher')\n",
    "researcher=Researcher(tomas)\n",
    "# Expected output: Senior Researcher Tomas Mikolov\n",
    "researcher.__str__()"
   ]
  },
  {
   "cell_type": "markdown",
   "metadata": {
    "id": "40nAxy14ugv8"
   },
   "source": [
    "### Task 4\n",
    "\n",
    "Consider the following scientists:\n",
    "\n",
    "1.  Paper _Deep Learning_ published by Yann LeCun, Yoshua Bengio, Geoffrey Hinton, in _nature 521_, id = https://doi.org/10.1038/nature14539, peer_rating = Excelent.\n",
    "\n",
    "2. Paper _On the difficulty of training recurrent neural networks_ by Razvan Pascanu, Tomas Mikolov, Professor of computer science Yoshua Bengio, in ICML 2013, id = https://arxiv.org/abs/1211.5063, peer_rating = Excelent.\n",
    "\n",
    "2. Paper _Generative Adversarial Nets_ by Ian Goodfellow and Yoshua Bengio, NeurIPS 2015, id = http://papers.nips.cc/paper/5423-generative-adversarial-nets.pdf, peer_rating = Excelent.\n",
    "\n",
    "3. Paper _Handwritten Digit Recognition with a Back-Propagation Network_ by Computer Scientist Yann LeCun, NeurIPS 1989, id =  https://papers.nips.cc/paper/293-handwritten-digit-recognition-with-a-back-propagation-network, peer_rating = Excelent.\n",
    "\n",
    "4. Paper _Gated Softmax Classification_ by Geoffrey Hintorn, NeurIPS 2010, id = http://papers.neurips.cc/paper/3895-gated-softmax-classification, peer_rating = Good.\n",
    "\n",
    "_Note:_ Let us consider \"Mr\" as a default title for the researchers without a specific caption. Also, for the id of a paper, please use only integers from the provided links.\n",
    "\n",
    "**a.** Define the next 5 scientists and use them in your `paper` objects.\n",
    "\n",
    "**b.** Create the `verify_co_authorship` function inside the `class Researcher` which checks if a certain researcher ever co-authored a paper.\n",
    "_Hint:_ Use `self.co_authored = False` inside the `__init__` function.\n",
    "\n",
    "**c.** Implement the `get_collab` function inside the `class Researcher` to discover the papers written by two researchers.\n",
    "\n",
    "For instance, if Yoshua Bengio is researcher2 and Ian Goodfellow is researcher3, then:\n",
    "\n",
    "`print_papers(researcher2.get_collab(researcher3))` should output:\n",
    "\n",
    "_Generative Adversarial Nets, Mr Ian Goodfellow et al. (2015), a_id: 5423, status: published, rating: Excelent_\n",
    "\n",
    "_Note:_ This function helps you to print the papers from a given list.\n",
    "\n",
    "```python\n",
    "def print_papers(paper_list):\n",
    "    for paper in paper_list:\n",
    "        print(paper)\n",
    "```\n",
    "\n",
    "**d.** What are the papers written by Yoshua Bengio?\n",
    "\n",
    "Expected output:\n",
    "\n",
    "`Deep Learning, Computer Scientist Yann LeCun et al. (2015), a_id: 14539, status: published, rating: Excelent`\n",
    "\n",
    "`Generative Adversarial Nets, Mr Ian Goodfellow et al. (2015), a_id: 5423, status: published, rating: Excelent`\n",
    "\n",
    "`Paper On the difficulty of training recurrent neural networks, Mr Razvan Pascanu et al. (2013), a_id: 5063, status: published, rating: Excelent`\n",
    "\n",
    "**e.** Did he ever co-author a paper?\n",
    "\n",
    "**f.** Which papers are published by Yann LeCun?\n",
    "\n",
    "Expected output:\n",
    "\n",
    "`Deep Learning, Computer Scientist Yann LeCun et al. (2015), a_id: 14539, status: published, rating: Excelent`\n",
    "\n",
    "`Handwritten Digit Recognition with a Back-Propagation Network, Computer Scientist Yann LeCun et al. (1989), a_id: 293, status: published, rating: Good`"
   ]
  },
  {
   "cell_type": "code",
   "execution_count": 114,
   "metadata": {},
   "outputs": [
    {
     "name": "stdout",
     "output_type": "stream",
     "text": [
      "Deep Learning, Mr LeCun Yann, Mr Bengio Yoshua, Mr  Hinton Geoffry et al. (2015), a_id: 14539, status: published, rating: Excellent\n"
     ]
    }
   ],
   "source": [
    "#Definition of the scienfic as person\n",
    "scientific1=Person('Yann','LeCun','Mr')\n",
    "scientific2=Person('Yoshua','Bengio','Mr')\n",
    "scientific3=Person('Geoffry',' Hinton','Mr')\n",
    "scientific4=Person('Razvan','Pascanu','Mr')\n",
    "scientific5=Person('Tomas','Mikolov','Mr')\n",
    "#Define papers\n",
    "paper1=Paper((scientific1,scientific2,scientific3),'Deep Learning',14539,'published',2015,'Excellent')\n",
    "paper2=Paper((scientific4,scientific5,scientific2),'On the difficulty of training recurrent neural networks',12115063,'published',2012,'Excellent')\n",
    "#MOdify Resercher class\n",
    "class Researcher(Person):\n",
    "    def __init__(self,person,papers=[],co_authored = False):\n",
    "        self.person=person\n",
    "        super().__init__(person.name,person.surname,person.title)\n",
    "        self.papers=papers\n",
    "        self.co_authored=co_authored\n",
    "    def verify_co_authorship(self):\n",
    "        self.co_authored=[True for paper in self.papers if len(paper.author)>1]\n",
    "    def get_collab(self,researcher):\n",
    "        collab_papers=[]\n",
    "        for paper in self.papers:\n",
    "            if researcher.person in paper.authors:\n",
    "                collab_papers.append(paper)\n",
    "\n",
    "        return collab_papers\n",
    "\n",
    "#Define reserchers\n",
    "Yann=Researcher(scientific1,[paper1])\n",
    "Yoshua=Researcher(scientific2,[paper1,paper2])\n",
    "Razvan=Researcher(scientific4,[paper2])\n",
    "\n",
    "def print_papers(paper_list):\n",
    "    for paper in paper_list:\n",
    "        print(paper)\n",
    "\n",
    "common=Yoshua.get_collab(Yann)\n",
    "print_papers(common)\n",
    "\n",
    "\n"
   ]
  },
  {
   "cell_type": "markdown",
   "metadata": {
    "id": "AImKzUZgugv9"
   },
   "source": [
    "### Task 5 - Homework\n",
    "\n",
    "Consider an updated version of the `ScientificConference` class, which should have a modified version of the function `add_manuscript`.\n",
    "\n",
    "Use the `status` and the `peer_rating` variables as a **threshold** to add papers in your `papers` dictionary. The conferences will only be accepting `Excelent` papers. For this case, the dictionary has the year of the paper as `key`, and the `values` are stored as a tuple of `(researcher, manuscript)`. For the papers which don't satisfy this condition, the message _\"Please review your submission.\"_ is displayed.\n",
    "\n",
    "For papers submitted in 2015, when printing the conference, the `str` function should output:\n",
    "\n",
    "```\n",
    "NeurIPS 2020: \n",
    "2015: \n",
    "Mr Ian Goodfellow: Generative Adversarial Nets, Mr Ian Goodfellow et al. (2015), id: 5423, status: published, rating: Excelent \n",
    "Computer Scientist Yann LeCun: Deep Learning, Computer Scientist Yann LeCun et al. (2015), id: 14539, status: published, rating: Excelent\n",
    "```"
   ]
  },
  {
   "cell_type": "code",
   "execution_count": 164,
   "metadata": {
    "id": "EDsHycjEugv_"
   },
   "outputs": [],
   "source": [
    "class ScientificConferenceUpdate:\n",
    "    def __init__(self, name,year,papers={}):\n",
    "        self.name = name\n",
    "        self.year = year\n",
    "        self.papers=papers\n",
    "    \n",
    "    def add_manuscript(self, manuscript, researcher):\n",
    "        if (manuscript.status=='published') and (manuscript.peer_rating=='Excellent'):\n",
    "            papers=[]\n",
    "            try:\n",
    "                papers=self.papers[manuscript.year]\n",
    "                papers.append((researcher,manuscript))\n",
    "                self.papers[manuscript.year]=papers\n",
    "            except KeyError:\n",
    "                papers.append((researcher,manuscript))\n",
    "                self.papers[manuscript.year]=papers\n",
    "                \n",
    "        else:\n",
    "            print('Please review your submition')\n",
    "        \n",
    "            \n",
    "        \n",
    "    def __str__(self):\n",
    "        \"\"\"\n",
    "        To return the String representation of\n",
    "        an object, we use the __str__ method. \n",
    "        \"\"\"\n",
    "        result = self.name + ' ' + str(self.year) + ': \\n'\n",
    "        for year, papers in self.papers.items():\n",
    "            result += f'{year}: \\n'\n",
    "            for (author, paper) in papers: \n",
    "                result += f'{author}: {paper} \\n'\n",
    "        return result"
   ]
  },
  {
   "cell_type": "code",
   "execution_count": 165,
   "metadata": {},
   "outputs": [
    {
     "name": "stdout",
     "output_type": "stream",
     "text": [
      "conference 2015: \n",
      "2015: \n",
      "Mr Bengio Yoshua: Deep Learning, Mr LeCun Yann, Mr Bengio Yoshua, Mr  Hinton Geoffry et al. (2015), a_id: 14539, status: published, rating: Excellent \n",
      "Mr Bengio Yoshua: Deep Learning, Mr LeCun Yann, Mr Bengio Yoshua, Mr  Hinton Geoffry et al. (2015), a_id: 14539, status: published, rating: Excellent \n",
      "Mr Bengio Yoshua: Test, Mr LeCun Yann, Mr Bengio Yoshua, Mr  Hinton Geoffry et al. (2015), a_id: 14539, status: published, rating: Excellent \n",
      "\n"
     ]
    }
   ],
   "source": [
    "conference=ScientificConferenceUpdate('conference',2015)\n",
    "conference.add_manuscript(paper1,Yoshua)\n",
    "conference.add_manuscript(paper1,Yoshua)\n",
    "paper3=Paper((scientific1,scientific2,scientific3),'Test',14539,'published',2015,'Excellent')\n",
    "conference.add_manuscript(paper3,Yoshua)\n",
    "\n",
    "print(conference)\n",
    "\n",
    "\n"
   ]
  }
 ],
 "metadata": {
  "colab": {
   "collapsed_sections": [],
   "name": "Lab03_AI.ipynb",
   "provenance": []
  },
  "kernelspec": {
   "display_name": "Python 3.6.13 ('ip_lab')",
   "language": "python",
   "name": "python3"
  },
  "language_info": {
   "codemirror_mode": {
    "name": "ipython",
    "version": 3
   },
   "file_extension": ".py",
   "mimetype": "text/x-python",
   "name": "python",
   "nbconvert_exporter": "python",
   "pygments_lexer": "ipython3",
   "version": "3.6.13"
  },
  "vscode": {
   "interpreter": {
    "hash": "0a6a9e23bd7aa9536986d8b41f53c9d9687edd32730f7f0e6ec80d95ba9a787b"
   }
  }
 },
 "nbformat": 4,
 "nbformat_minor": 1
}

{
 "cells": [
  {
   "cell_type": "markdown",
   "metadata": {
    "id": "0Y435U2gHFou"
   },
   "source": [
    "# Artificial Intelligence - Fall 2022 - Laboratory 06\n",
    "\n",
    "## _Searching algorithms for optimal decision-making in game theory and AI_\n"
   ]
  },
  {
   "cell_type": "markdown",
   "metadata": {
    "id": "LSIproEOHFox"
   },
   "source": [
    "## Introduction\n",
    "\n",
    "In gaming tehory, the _decision-making process_ relies on the searching algorithm guiding the investigation of the search-space.\n",
    "\n",
    "Today's challenge sets the **MinMax Algorithm** as the main character of a  two-player game.\n",
    "\n",
    "Using tic-tac-toe as an example, the algorithm should compute the next best move by evaluating the utility of the board."
   ]
  },
  {
   "cell_type": "markdown",
   "metadata": {
    "id": "x254sN9iHFoz"
   },
   "source": [
    "## From definitions to know-how"
   ]
  },
  {
   "cell_type": "code",
   "execution_count": 2,
   "metadata": {
    "id": "HYegED8VHFo1"
   },
   "outputs": [],
   "source": [
    "# Useful libraries:\n",
    "from collections import defaultdict\n",
    "import random\n",
    "import math\n",
    "import functools "
   ]
  },
  {
   "cell_type": "markdown",
   "metadata": {
    "id": "Trb_8jqQHFo-"
   },
   "source": [
    "The mathematical representation of the problem gets an intuitive design `class Board` holding the legal states and possible moves for the allowed positions.\n",
    "\n",
    "Pythonic speaking, `class Board` overrides the built-in subclass `defaultdict` from `class collections`.\n",
    "\n",
    "To manage the empty fields or to assign the corresponding values for each position, the method `__missing__` from `defaultdict`\n",
    "represents a better alternative than using a traditional dictionary.\n",
    "\n",
    "The structure of the board is:\n",
    "`{(coordinates_as_tuple) : attributes}`\n",
    "\n",
    "Where the attributes element might be:\n",
    "* the player which assigns X or O on the board;\n",
    "* the dimensions of the board, given by width and height;\n",
    "* keywords arguments to store the **utility value** meaning the evaluation function for this problem."
   ]
  },
  {
   "cell_type": "markdown",
   "metadata": {
    "id": "OG9nodJMHFpA"
   },
   "source": [
    "### Task 0\n",
    "\n",
    "Build the `class Board`."
   ]
  },
  {
   "cell_type": "code",
   "execution_count": 3,
   "metadata": {
    "id": "s2_TQLz1HFpB"
   },
   "outputs": [
    {
     "data": {
      "text/plain": [
       "'.'"
      ]
     },
     "execution_count": 3,
     "metadata": {},
     "output_type": "execute_result"
    }
   ],
   "source": [
    "class Board(defaultdict):\n",
    "    empty = '.'\n",
    "    used = '#'\n",
    "    \n",
    "    def __init__(self, width=3, height=3, current_player=None, **kwds):\n",
    "        self.__dict__.update(width=width, height=height, current_player=current_player, **kwds)\n",
    " \n",
    "    def __missing__(self, pos):\n",
    "        \"\"\"\n",
    "        Given the position of a cell, verify if its coordinates are within the\n",
    "        boundaries of the board and mark the cell as an empty square.\n",
    "        Otherwise, the cell will be marked as `used`.\n",
    "        \n",
    "        \"\"\"\n",
    "        if(pos[0]<=self.width)and(pos[1]<=self.height):\n",
    "            return Board.empty\n",
    "        else:\n",
    "            return Board.used        \n",
    "\n",
    "\n",
    "            \n",
    "    def __hash__(self): \n",
    "        \"\"\"\n",
    "        Hash method stores the instances in hash tables.\n",
    "        \"\"\"\n",
    "        return hash(tuple(sorted(self.items()))) + hash(self.current_player)\n",
    "    \n",
    "    def __repr__(self):\n",
    "        def row(y): \n",
    "            return ' '.join(self[x, y] for x in range(self.width))\n",
    "        return '\\n'.join(map(row, range(self.height))) +  '\\n'\n",
    "    \n",
    "    def update_board(self, changes: dict, **kwds) -> 'Board':\n",
    "        \"\"\"\n",
    "        Update the board with the new changes of each cell.\n",
    "        \"\"\"\n",
    "        self.update(changes)\n",
    "        return self\n",
    "\n",
    "dicta=Board(3,3,{(0,0):2})\n",
    "dictador={(0,0):'X',(0,1):'O',(0,2):'X'}\n",
    "dicat2=Board(3,3)\n",
    "pos=(0,0)\n",
    "\n",
    "player='X'\n",
    "pos=(0,0)\n",
    "new_dict=dicat2.update_board({pos:player})\n",
    "dicat2[(0,2)]\n",
    "\n",
    "\n",
    "\n"
   ]
  },
  {
   "cell_type": "markdown",
   "metadata": {
    "id": "ORg7E4NcHFpI"
   },
   "source": [
    "For this problem the utility value can be:\n",
    "\n",
    "* _-1_ if player that seeks minimum wins;\n",
    "* _0_ if it's a tie;\n",
    "* _1_ if player that seeks maximum wins.\n",
    "\n",
    "The abstract `class TicTacToe` receives a 3X3 board, where a game ends if there:\n",
    "\n",
    "* is a vertical win or,\n",
    "* is a main diagonal win or,\n",
    "* is a second diagonal win or,\n",
    "* is a horizontal win,\n",
    "* are no empty squares. \n",
    "\n",
    "The parameter k is responsible for counting the number of similar symbols (_X_ or _O_) are in a row."
   ]
  },
  {
   "cell_type": "markdown",
   "metadata": {
    "id": "kQSJTfLCHFpS"
   },
   "source": [
    "### Task 1\n",
    "\n",
    "Find the number of _X_ or _O_ placed in a row."
   ]
  },
  {
   "cell_type": "code",
   "execution_count": 4,
   "metadata": {
    "id": "WAjRD0InHFpT"
   },
   "outputs": [],
   "source": [
    "def k_in_row(board, player, square, k):\n",
    "    \"\"\"\n",
    "    Helper function to count if the player has similar symbols in a line.\n",
    "    The player variable represents the player we are counting for (X or O in this case).\n",
    "    The square variable can be used to only check lines that contain a specific position.\n",
    "    You can choose to remove the \"square\" parameter from the function definition.\n",
    "    \"\"\"\n",
    "    x=square[0]\n",
    "    y=square[1]\n",
    "    ## Define the target zone by indexes\n",
    "    index=(k-1)\n",
    "    max_index=(k+1)\n",
    "    # Extract the rows\n",
    "    # Vertical\n",
    "    up_row=[player for j in  range(y-index,y+1) if board[(x,j)]==player]\n",
    "    # Bottom\n",
    "    bottom_row=[player for j in range(y,y+index+1) if board[(x,j)]==player]\n",
    "    #Vertical\n",
    "    vertical_row=[player for j in  range(y-index,y+index+1) if board[(x,j)]==player]\n",
    "    # Left\n",
    "    Left_row=[player for i in range(x-index,x+1) if board[(i,y)]==player]\n",
    "    #Right\n",
    "    Right_row=[player for i in range(x,x+1+index) if board[(i,y)]==player]\n",
    "    #Horizontal\n",
    "    Horizontal_row=[player for i in range(x-index,x+index+1) if board[(i,y)]==player]\n",
    "    #Right_upper_diagonal\n",
    "    Right_upper_diag=[player for _ in range(k) if board[(x+_,y-_)]==player]\n",
    "    #Right_bottom_diagonal\n",
    "    Right_bottom_diag=[player for _ in range(k) if board[(x+_,y+_)]==player]\n",
    "    #Right Diagonal\n",
    "    Right_diag=[player for _ in range(-index+1,index) if board[(x+_,y-_)]==player]\n",
    "    #Left_bottom diag\n",
    "    Left_bottom_diag=[player for _ in range(k) if board[(x-_,y+_)]==player]\n",
    "    #Left upper diag\n",
    "    Left_upper_diag=[player for _ in range(k) if board[(x-_,y-_)]==player]\n",
    "    #Left diag\n",
    "    Left_diag=[player for _ in range(-index+1,index) if board[(x+_,y+_)]==player]\n",
    "\n",
    "    total_row=[len(up_row),len(vertical_row),len(Right_upper_diag),len(Right_diag),len(Right_row),len(Horizontal_row),\n",
    "     len(Right_bottom_diag),len(bottom_row),len(Left_bottom_diag),len(Left_row),len(Left_diag),len(Left_upper_diag)]\n",
    "    return total_row\n",
    "\n",
    "\n",
    "\n",
    "\n",
    "\n",
    "\n",
    "    \n",
    "\n",
    "    "
   ]
  },
  {
   "cell_type": "code",
   "execution_count": 5,
   "metadata": {},
   "outputs": [
    {
     "name": "stdout",
     "output_type": "stream",
     "text": [
      ". . .\n",
      ". . .\n",
      ". . .\n",
      "\n",
      ". X .\n",
      ". . .\n",
      "X . .\n",
      "\n",
      "[1, 1, 0, 1, 0, 0, 0, 0, 1, 0, 0, 0]\n"
     ]
    }
   ],
   "source": [
    "board=Board(3,3)\n",
    "print(board)\n",
    "board.update_board({(1,0):'X'})\n",
    "board.update_board({(0,2):'X'})\n",
    "print(board)\n",
    "row=k_in_row(board,'X',(1,1),3)\n",
    "print(row)\n",
    "\n"
   ]
  },
  {
   "cell_type": "markdown",
   "metadata": {
    "id": "jBKAiHAkHFpJ"
   },
   "source": [
    "### Task 2\n",
    "\n",
    "Build the `class TicTacToe`:"
   ]
  },
  {
   "cell_type": "code",
   "execution_count": 91,
   "metadata": {
    "id": "fhzT-HFtHFpL"
   },
   "outputs": [],
   "source": [
    "class TicTacToe:\n",
    "    \n",
    "    def __init__(self, height=3, width=3, k=3):\n",
    "        self.k =k\n",
    "        self.height=height\n",
    "        self.width=width\n",
    "        self.squares = {(x,y) for x in range(self.width) for y in range(self.height) }\n",
    "                      \n",
    "        self.initial =Board(self.width,self.height,'X')\n",
    " \n",
    "    def actions(self, board):\n",
    "        \"\"\"\n",
    "        Define the possible moves for the allowed positions.\n",
    "        Hint: Remember that you have all the positions on the board in self.squares and\n",
    "        all the occupied positions can be obtained from the board parameter. Set operations\n",
    "        are easily handled by python.\n",
    "        \"\"\"\n",
    "        moves={}\n",
    "        for square in self.squares:\n",
    "            player=board[square]\n",
    "            if player =='.':\n",
    "                moves[square]=board.current_player\n",
    "        return moves\n",
    "\n",
    "    def utility(self, board, player):\n",
    "        \n",
    "        _player='X'\n",
    "        rival='O'\n",
    "        player_utility=0\n",
    "\n",
    "        for pos in self.squares:\n",
    "            #print('pos,',pos)\n",
    "            player_rows=k_in_row(board,_player,pos,self.k)\n",
    "            #print('player row',player_rows)\n",
    "            if 3 in player_rows:\n",
    "                    player_utility=-1\n",
    "            rival_rows=k_in_row(board,rival,pos,self.k)\n",
    "            #print('rival row',rival_rows)\n",
    "            if 3 in rival_rows:\n",
    "                player_utility=1\n",
    "\n",
    "        self.util = player_utility\n",
    "        return player_utility\n",
    "\n",
    "    def make_move(self, board, square):\n",
    "        \"\"\"\n",
    "        Update the board in case the current player (board.current_player) places their symbol in the given square. \n",
    "        Afterwards, update the board's utility function with the corresponding symbol for each player.\n",
    "        \"\"\"\n",
    "        player = board.current_player\n",
    "        board.update_board({square:player})\n",
    "        board.utility=self.utility(board,board.current_player)\n",
    "        if board.current_player=='X':\n",
    "            board.current_player='O'\n",
    "        else:\n",
    "            board.current_player='X'\n",
    "        return board\n",
    "    \n",
    "    def end(self, board):\n",
    "        \"\"\"\n",
    "        Checks if the game came to an end (we have an utility value for the board or there is a draw).\n",
    "        \"\"\"\n",
    "        utility=self.utility(board,board.current_player)\n",
    "        if (utility)!=0:\n",
    "            return(True,utility)\n",
    "        else:\n",
    "            if self.actions(board)=={}:\n",
    "                return ( True,0)\n",
    "            else:\n",
    "                return (False,0)\n",
    "        \n",
    "\n",
    " \n",
    "    def draw_board(self, board):\n",
    "        print(board)"
   ]
  },
  {
   "cell_type": "code",
   "execution_count": 6,
   "metadata": {},
   "outputs": [
    {
     "name": "stdout",
     "output_type": "stream",
     "text": [
      "aqui\n",
      "-1\n"
     ]
    }
   ],
   "source": [
    "tic=TicTacToe(3,3,3)\n",
    "board=tic.initial\n",
    "tic.make_move(board,(0,1))\n",
    "board.current_player\n",
    "tic.actions(board)\n",
    "tic.make_move(board,(2,2))\n",
    "tic.make_move(board,(2,0))\n",
    "tic.utility(board,'X')\n",
    "tic.make_move(board,(1,2))\n",
    "tic.make_move(board,(0,0))\n",
    "tic.make_move(board,(0,2))\n",
    "print('aqui')\n",
    "print(tic.utility(board,'O'))\n",
    "\n",
    "\n"
   ]
  },
  {
   "cell_type": "code",
   "execution_count": 60,
   "metadata": {},
   "outputs": [
    {
     "ename": "KeyError",
     "evalue": "'0'",
     "output_type": "error",
     "traceback": [
      "\u001b[1;31m---------------------------------------------------------------------------\u001b[0m",
      "\u001b[1;31mKeyError\u001b[0m                                  Traceback (most recent call last)",
      "Cell \u001b[1;32mIn [60], line 3\u001b[0m\n\u001b[0;32m      1\u001b[0m d1\u001b[39m=\u001b[39m{\u001b[39m'\u001b[39m\u001b[39mX\u001b[39m\u001b[39m'\u001b[39m:\u001b[39m1\u001b[39m}\n\u001b[0;32m      2\u001b[0m d2\u001b[39m=\u001b[39m{\u001b[39m'\u001b[39m\u001b[39mX\u001b[39m\u001b[39m'\u001b[39m:\u001b[39m1\u001b[39m}\n\u001b[1;32m----> 3\u001b[0m \u001b[39mif\u001b[39;00m d1[\u001b[39m'\u001b[39m\u001b[39mX\u001b[39m\u001b[39m'\u001b[39m]\u001b[39m==\u001b[39md2[\u001b[39m'\u001b[39;49m\u001b[39m0\u001b[39;49m\u001b[39m'\u001b[39;49m]:\n\u001b[0;32m      4\u001b[0m     \u001b[39mprint\u001b[39m(\u001b[39m0\u001b[39m)\n",
      "\u001b[1;31mKeyError\u001b[0m: '0'"
     ]
    }
   ],
   "source": [
    "d1={'X':1}\n",
    "d2={'X':1}\n",
    "if d1['X']==d2['0']:\n",
    "    print(0)"
   ]
  },
  {
   "cell_type": "code",
   "execution_count": 7,
   "metadata": {
    "id": "9rHMCuK6HFpw"
   },
   "outputs": [
    {
     "data": {
      "text/plain": [
       "(0, 2)"
      ]
     },
     "execution_count": 7,
     "metadata": {},
     "output_type": "execute_result"
    }
   ],
   "source": [
    "def random_player(game, state):\n",
    "    \"\"\"\n",
    "    We define a player that always uses random moves.\n",
    "    This will be the challenger for our algorithm.\n",
    "    \"\"\"\n",
    "    return random.choice(list(game.actions(state)))\n",
    "\n",
    "game=TicTacToe(3,3,3)\n",
    "board=game.initial\n",
    "\n",
    "random_player(game,board)"
   ]
  },
  {
   "cell_type": "code",
   "execution_count": 8,
   "metadata": {
    "id": "hB10fKbVHFpq"
   },
   "outputs": [],
   "source": [
    "def player(search_algorithm):\n",
    "    \"\"\"\n",
    "    We define a general player that uses a strategy (search algorithm).\n",
    "    Given a search algorithm, the player uses the (game, state) values to return an optimal move.\n",
    "    The search_algorithm function will give us: utility_value, action_to_take.\n",
    "    We only return the chosen action.\n",
    "    \"\"\"\n",
    "    return lambda game, state: search_algorithm(game, state)[1]"
   ]
  },
  {
   "cell_type": "markdown",
   "metadata": {
    "id": "slYyr7t8HFpZ"
   },
   "source": [
    "### Task 3\n",
    "\n",
    "To define the actions of the problem, we use the `play_game` function receiving the current game to play and a strategy.\n",
    "The strategy itself reduces to a dictionary with the following structure:\n",
    "```\n",
    "{player_as_key : strategy_function}\n",
    "```\n",
    "where `strategy_function` can be called by: `strategy_function(state, game)`\n",
    "\n",
    "Example:\n",
    "```\n",
    "X: random_player -> random_player(state, game)\n",
    "O: player(minmax_search) -> minmax_search(game,state)[1] (returned by the above lambda expression)\n",
    "```\n",
    "\n",
    "The `strategy_function` returns the action for each round and the current state of each player."
   ]
  },
  {
   "cell_type": "code",
   "execution_count": 99,
   "metadata": {
    "id": "x1MYeB_aHFpb"
   },
   "outputs": [
    {
     "name": "stdout",
     "output_type": "stream",
     "text": [
      "Llama X\n",
      ". . .\n",
      ". . .\n",
      ". . .\n",
      "\n",
      ". . .\n",
      ". . .\n",
      ". . .\n",
      "\n",
      "X=>(0, 2)\n",
      ". . .\n",
      ". . .\n",
      "X . .\n",
      "\n",
      ". . .\n",
      ". . .\n",
      "X . .\n",
      "\n",
      "O=>(1, 1)\n",
      ". . .\n",
      ". O .\n",
      "X . .\n",
      "\n",
      ". . .\n",
      ". O .\n",
      "X . .\n",
      "\n",
      "X=>(1, 0)\n",
      ". X .\n",
      ". O .\n",
      "X . .\n",
      "\n",
      ". X .\n",
      ". O .\n",
      "X . .\n",
      "\n",
      "O=>(2, 2)\n",
      ". X .\n",
      ". O .\n",
      "X . O\n",
      "\n",
      ". X .\n",
      ". O .\n",
      "X . O\n",
      "\n",
      "X=>(0, 1)\n",
      ". X .\n",
      "X O .\n",
      "X . O\n",
      "\n",
      ". X .\n",
      "X O .\n",
      "X . O\n",
      "\n",
      "O=>(0, 0)\n",
      "O X .\n",
      "X O .\n",
      "X . O\n",
      "\n"
     ]
    },
    {
     "data": {
      "text/plain": [
       "1"
      ]
     },
     "execution_count": 99,
     "metadata": {},
     "output_type": "execute_result"
    }
   ],
   "source": [
    "def play_game(game, strategies: dict):\n",
    "    board=game.initial\n",
    "    print('Llama X')\n",
    "    print(board)\n",
    "    flag=False\n",
    "    while flag==False:\n",
    "        print(board)\n",
    "        move=strategies[board.current_player](game,board)\n",
    "        print('{}=>{}'.format(board.current_player,move))\n",
    "        board=game.make_move(board,move)\n",
    "        print(board)\n",
    "        flag=game.end(board)[0] \n",
    "        \n",
    "        \n",
    "    utility=game.end(board)[1]  \n",
    "    return utility\n",
    "\n",
    "play_game(TicTacToe(),dict(X=random_player,O=random_player))\n",
    "    \n"
   ]
  },
  {
   "cell_type": "code",
   "execution_count": 73,
   "metadata": {},
   "outputs": [
    {
     "name": "stdout",
     "output_type": "stream",
     "text": [
      "O\n",
      "X . .\n",
      "X O O\n",
      "X X .\n",
      "\n"
     ]
    },
    {
     "data": {
      "text/plain": [
       "1"
      ]
     },
     "execution_count": 73,
     "metadata": {},
     "output_type": "execute_result"
    }
   ],
   "source": [
    "tic=TicTacToe()\n",
    "board=tic.initial\n",
    "tic.make_move(board,(0,0))\n",
    "tic.make_move(board,(0,1))\n",
    "tic.make_move(board,(0,2))\n",
    "tic.make_move(board,(1,1))\n",
    "tic.make_move(board,(1,2))\n",
    "tic.make_move(board,(2,1))\n",
    "tic.make_move(board,(0,1))\n",
    "\n",
    "print(board.current_player)\n",
    "print(board)\n",
    "tic.utility(board,'O')\n",
    "\n"
   ]
  },
  {
   "cell_type": "markdown",
   "metadata": {
    "id": "06WTByxMHFph"
   },
   "source": [
    "## Min-Max Algorithm\n",
    "\n",
    "### Task 4\n",
    "\n",
    "Build the search game tree to determine the best move using:\n",
    "\n",
    "* the `max_value(state)` function in which the AI's strategy is to _maximise_ its score while the opponent's score minimises;\n",
    "* the `min_value(state)` function in which the human's strategy is to _minimise_ AI's score."
   ]
  },
  {
   "cell_type": "code",
   "execution_count": 55,
   "metadata": {
    "id": "CPmxwBVoHFpk"
   },
   "outputs": [],
   "source": [
    "# Set a value worse than the worst case:\n",
    "infinity = math.inf\n",
    "import copy\n",
    "\n",
    "def minimax_search(game, state):\n",
    "    player = state.current_player\n",
    "\n",
    "    def max_value(state):\n",
    "        if game.end(state)[0]==True:\n",
    "            return (-game.utility(state,state.current_player),(0,0)) # the positipn doesnt matter\n",
    "        else:\n",
    "            moves=game.actions(state)\n",
    "            puntuation=[]\n",
    "            for pos in moves:\n",
    "                new_board=copy.deepcopy(state)\n",
    "                new_board.current_player=state.current_player\n",
    "            \n",
    "                game.make_move(new_board,pos)\n",
    "                mini=min_value(new_board)\n",
    "                puntuation.append((mini[0],pos))\n",
    "            \n",
    "        maximum=-infinity\n",
    "        max_position=(0,0)\n",
    "        for values,position in puntuation:\n",
    "            if values> maximum:\n",
    "                maximum=values\n",
    "                max_position=position\n",
    "        \n",
    "        return (maximum,max_position)\n",
    "        \n",
    "       # return value, move\n",
    "\n",
    "    def min_value(state):\n",
    "        if game.end(state)[0]==True:\n",
    "            return (game.utility(state,state.current_player),(0,0)) # the positipn doesnt matter\n",
    "        else:\n",
    "            moves=game.actions(state)\n",
    "            puntuation=[]\n",
    "            for pos in moves:\n",
    "                new_board=copy.deepcopy(state)\n",
    "                new_board.current_player=state.current_player\n",
    "                game.make_move(new_board,pos)\n",
    "                max=max_value(new_board)\n",
    "                puntuation.append((max[0],pos))\n",
    "                \n",
    "            \n",
    "        minimum=infinity\n",
    "        min_position=(0,0)\n",
    "        for values,position in puntuation:\n",
    "            if values< minimum:\n",
    "                minimum=values\n",
    "                min_position=position\n",
    "        \n",
    "        return (minimum,min_position)\n",
    "    return max_value(state)"
   ]
  },
  {
   "cell_type": "markdown",
   "metadata": {
    "id": "qFzeCI7QHFp1"
   },
   "source": [
    "The output of the game should look like:"
   ]
  },
  {
   "cell_type": "code",
   "execution_count": 92,
   "metadata": {
    "id": "NBX3Y24SHFp2",
    "outputId": "341df910-35c4-4265-a70e-6ec7465d3226"
   },
   "outputs": [
    {
     "ename": "NameError",
     "evalue": "name 'minimax_search' is not defined",
     "output_type": "error",
     "traceback": [
      "\u001b[1;31m---------------------------------------------------------------------------\u001b[0m",
      "\u001b[1;31mNameError\u001b[0m                                 Traceback (most recent call last)",
      "\u001b[1;32m<ipython-input-92-a71404db551c>\u001b[0m in \u001b[0;36m<module>\u001b[1;34m\u001b[0m\n\u001b[1;32m----> 1\u001b[1;33m \u001b[0mplay_game\u001b[0m\u001b[1;33m(\u001b[0m\u001b[0mTicTacToe\u001b[0m\u001b[1;33m(\u001b[0m\u001b[1;33m)\u001b[0m\u001b[1;33m,\u001b[0m \u001b[0mdict\u001b[0m\u001b[1;33m(\u001b[0m\u001b[0mX\u001b[0m\u001b[1;33m=\u001b[0m\u001b[0mrandom_player\u001b[0m\u001b[1;33m,\u001b[0m \u001b[0mO\u001b[0m\u001b[1;33m=\u001b[0m\u001b[0mplayer\u001b[0m\u001b[1;33m(\u001b[0m\u001b[0mminimax_search\u001b[0m\u001b[1;33m)\u001b[0m\u001b[1;33m)\u001b[0m\u001b[1;33m)\u001b[0m\u001b[1;33m.\u001b[0m\u001b[0mutility\u001b[0m\u001b[1;33m\u001b[0m\u001b[1;33m\u001b[0m\u001b[0m\n\u001b[0m",
      "\u001b[1;31mNameError\u001b[0m: name 'minimax_search' is not defined"
     ]
    }
   ],
   "source": [
    "play_game(TicTacToe(), dict(X=random_player, O=player(minimax_search))).utility"
   ]
  }
 ],
 "metadata": {
  "colab": {
   "collapsed_sections": [],
   "name": "Lab06_AI.ipynb",
   "provenance": []
  },
  "kernelspec": {
   "display_name": "Python 3.6.13 ('ip_lab')",
   "language": "python",
   "name": "python3"
  },
  "language_info": {
   "codemirror_mode": {
    "name": "ipython",
    "version": 3
   },
   "file_extension": ".py",
   "mimetype": "text/x-python",
   "name": "python",
   "nbconvert_exporter": "python",
   "pygments_lexer": "ipython3",
   "version": "3.6.13"
  },
  "vscode": {
   "interpreter": {
    "hash": "0a6a9e23bd7aa9536986d8b41f53c9d9687edd32730f7f0e6ec80d95ba9a787b"
   }
  }
 },
 "nbformat": 4,
 "nbformat_minor": 1
}
